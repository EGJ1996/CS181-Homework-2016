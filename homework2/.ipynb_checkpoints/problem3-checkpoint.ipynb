{
 "cells": [
  {
   "cell_type": "markdown",
   "metadata": {},
   "source": [
    "# Gaussian generative model"
   ]
  },
  {
   "cell_type": "code",
   "execution_count": 2,
   "metadata": {
    "collapsed": true
   },
   "outputs": [],
   "source": [
    "from scipy.stats import multivariate_normal\n",
    "import numpy as np\n",
    "import matplotlib.pyplot as plt\n",
    "import matplotlib.colors as c\n",
    "\n",
    "# Please implement the fit and predict methods of this class. You can add additional private methods\n",
    "# by beginning them with two underscores. It may look like the __dummyPrivateMethod below.\n",
    "# You can feel free to change any of the class attributes, as long as you do not change any of \n",
    "# the given function headers (they must take and return the same arguments), and as long as you\n",
    "# don't change anything in the .visualize() method. \n",
    "class GaussianGenerativeModel:\n",
    "    def __init__(self, isSharedCovariance=False):\n",
    "        self.isSharedCovariance = isSharedCovariance\n",
    "\n",
    "    # Just to show how to make 'private' methods\n",
    "    def __dummyPrivateMethod(self, input):\n",
    "        return None\n",
    "\n",
    "    # TODO: Implement this method!\n",
    "    def fit(self, X, Y):\n",
    "        self.X = X\n",
    "        self.Y = Y\n",
    "        return\n",
    "\n",
    "    # TODO: Implement this method!\n",
    "    def predict(self, X_to_predict):\n",
    "        # The code in this method should be removed and replaced! We included it just so that the distribution code\n",
    "        # is runnable and produces a (currently meaningless) visualization.\n",
    "        Y = []\n",
    "        for x in X_to_predict:\n",
    "            val = 0\n",
    "            if x[1] > 4:\n",
    "                val += 1\n",
    "            if x[1] > 6:\n",
    "                val += 1\n",
    "            Y.append(val)\n",
    "        return np.array(Y)\n",
    "\n",
    "    # Do not modify this method!\n",
    "    def visualize(self, output_file, width=3, show_charts=False):\n",
    "        X = self.X\n",
    "\n",
    "        # Create a grid of points\n",
    "        x_min, x_max = min(X[:, 0] - width), max(X[:, 0] + width)\n",
    "        y_min, y_max = min(X[:, 1] - width), max(X[:, 1] + width)\n",
    "        xx,yy = np.meshgrid(np.arange(x_min, x_max, .05), np.arange(y_min,\n",
    "            y_max, .05))\n",
    "\n",
    "        # Flatten the grid so the values match spec for self.predict\n",
    "        xx_flat = xx.flatten()\n",
    "        yy_flat = yy.flatten()\n",
    "        X_topredict = np.vstack((xx_flat,yy_flat)).T\n",
    "\n",
    "        # Get the class predictions\n",
    "        Y_hat = self.predict(X_topredict)\n",
    "        Y_hat = Y_hat.reshape((xx.shape[0], xx.shape[1]))\n",
    "\n",
    "        cMap = c.ListedColormap(['r','b','g'])\n",
    "\n",
    "        # Visualize them.\n",
    "        plt.figure()\n",
    "        plt.pcolormesh(xx,yy,Y_hat, cmap=cMap)\n",
    "        plt.scatter(X[:, 0], X[:, 1], c=self.Y, cmap=cMap)\n",
    "        plt.savefig(output_file)\n",
    "        if show_charts:\n",
    "            plt.show()\n",
    "\n"
   ]
  },
  {
   "cell_type": "markdown",
   "metadata": {},
   "source": [
    "# Logistic regression"
   ]
  },
  {
   "cell_type": "code",
   "execution_count": 3,
   "metadata": {
    "collapsed": true
   },
   "outputs": [],
   "source": [
    "import numpy as np\n",
    "import matplotlib.pyplot as plt\n",
    "import matplotlib.colors as c\n",
    "from scipy.misc import logsumexp\n",
    "\n",
    "# Please implement the fit and predict methods of this class. You can add additional private methods\n",
    "# by beginning them with two underscores. It may look like the __dummyPrivateMethod below.\n",
    "# You can feel free to change any of the class attributes, as long as you do not change any of \n",
    "# the given function headers (they must take and return the same arguments), and as long as you\n",
    "# don't change anything in the .visualize() method. \n",
    "class LogisticRegression:\n",
    "    def __init__(self, eta, lambda_parameter):\n",
    "        self.eta = eta\n",
    "        self.lambda_parameter = lambda_parameter\n",
    "    \n",
    "    # Just to show how to make 'private' methods\n",
    "    def __dummyPrivateMethod(self, input):\n",
    "        return None\n",
    "\n",
    "    # TODO: Implement this method!\n",
    "    def fit(self, X, C):\n",
    "        self.X = X\n",
    "        self.C = C\n",
    "        return\n",
    "\n",
    "    # TODO: Implement this method!\n",
    "    def predict(self, X_to_predict):\n",
    "        # The code in this method should be removed and replaced! We included it just so that the distribution code\n",
    "        # is runnable and produces a (currently meaningless) visualization.\n",
    "        Y = []\n",
    "        for x in X_to_predict:\n",
    "            val = 0\n",
    "            if x[1] > 4:\n",
    "                val += 1\n",
    "            if x[1] > 6:\n",
    "                val += 1\n",
    "            Y.append(val)\n",
    "        return np.array(Y)\n",
    "\n",
    "    def visualize(self, output_file, width=2, show_charts=False):\n",
    "        X = self.X\n",
    "\n",
    "        # Create a grid of points\n",
    "        x_min, x_max = min(X[:, 0] - width), max(X[:, 0] + width)\n",
    "        y_min, y_max = min(X[:, 1] - width), max(X[:, 1] + width)\n",
    "        xx,yy = np.meshgrid(np.arange(x_min, x_max, .05), np.arange(y_min,\n",
    "            y_max, .05))\n",
    "\n",
    "        # Flatten the grid so the values match spec for self.predict\n",
    "        xx_flat = xx.flatten()\n",
    "        yy_flat = yy.flatten()\n",
    "        X_topredict = np.vstack((xx_flat,yy_flat)).T\n",
    "\n",
    "        # Get the class predictions\n",
    "        Y_hat = self.predict(X_topredict)\n",
    "        Y_hat = Y_hat.reshape((xx.shape[0], xx.shape[1]))\n",
    "        \n",
    "        cMap = c.ListedColormap(['r','b','g'])\n",
    "\n",
    "        # Visualize them.\n",
    "        plt.figure()\n",
    "        plt.pcolormesh(xx,yy,Y_hat, cmap=cMap)\n",
    "        plt.scatter(X[:, 0], X[:, 1], c=self.C, cmap=cMap)\n",
    "        plt.savefig(output_file)\n",
    "        if show_charts:\n",
    "            plt.show()\n",
    "\n"
   ]
  },
  {
   "cell_type": "markdown",
   "metadata": {},
   "source": [
    "# Problem 3"
   ]
  },
  {
   "cell_type": "code",
   "execution_count": 5,
   "metadata": {
    "collapsed": false
   },
   "outputs": [
    {
     "data": {
      "image/png": "[encoded data removed]",
      "text/plain": [
       "<matplotlib.figure.Figure at 0x10d6565d0>"
      ]
     },
     "metadata": {},
     "output_type": "display_data"
    },
    {
     "data": {
      "image/png": "[encoded data removed]",
      "text/plain": [
       "<matplotlib.figure.Figure at 0x109729e90>"
      ]
     },
     "metadata": {},
     "output_type": "display_data"
    },
    {
     "data": {
      "image/png": "[encoded data removed]",
      "text/plain": [
       "<matplotlib.figure.Figure at 0x10974ce10>"
      ]
     },
     "metadata": {},
     "output_type": "display_data"
    }
   ],
   "source": [
    "# Don't change these imports. Note that the last two are the\n",
    "# class implementations that you will implement in\n",
    "# LogisticRegression.py and GaussianNaiveBayes.py\n",
    "import matplotlib.pyplot as plt\n",
    "import pandas as pd\n",
    "from LogisticRegression import LogisticRegression\n",
    "from GaussianGenerativeModel import GaussianGenerativeModel\n",
    "%matplotlib inline\n",
    "\n",
    "## These are the hyperparameters to the classifiers. You may need to\n",
    "# adjust these as you try to find the best fit for each classifier.\n",
    "\n",
    "# Logistic Regression parameters\n",
    "eta = .1\n",
    "lambda_parameter = .1\n",
    "\n",
    "\n",
    "# Do not change anything below this line!!\n",
    "# -----------------------------------------------------------------\n",
    "\n",
    "# Read from file and extract X and Y\n",
    "df = pd.read_csv(\"fruit.csv\")\n",
    "X = df[['width', 'height']].values\n",
    "Y = (df['fruit'] - 1).values\n",
    "\n",
    "nb1 = GaussianGenerativeModel(isSharedCovariance=False)\n",
    "nb1.fit(X,Y)\n",
    "nb1.visualize(\"generative_result_separate_covariances.png\")\n",
    "\n",
    "nb2 = GaussianGenerativeModel(isSharedCovariance=True)\n",
    "nb2.fit(X,Y)\n",
    "nb2.visualize(\"generative_result_shared_covariances.png\")\n",
    "\n",
    "lr = LogisticRegression(eta=eta, lambda_parameter=lambda_parameter)\n",
    "lr.fit(X,Y)\n",
    "lr.visualize('logistic_regression_result.png')"
   ]
  },
  {
   "cell_type": "code",
   "execution_count": 173,
   "metadata": {
    "collapsed": false
   },
   "outputs": [],
   "source": [
    "# initialize variables\n",
    "phi = np.hstack((np.ones((X.shape[0],1), dtype=X.dtype), X))\n",
    "N = len(Y)\n",
    "W = np.ones((3,3))\n",
    "T = np.zeros((N,3))\n",
    "for i in range(0,N):\n",
    "    if Y[i] == 0:\n",
    "        T[i,0] = 1\n",
    "    if Y[i] == 1:\n",
    "        T[i,1] = 1\n",
    "    if Y[i] == 2:\n",
    "        T[i,2] = 1"
   ]
  },
  {
   "cell_type": "code",
   "execution_count": null,
   "metadata": {
    "collapsed": true
   },
   "outputs": [],
   "source": [
    "self.W = np.ones((3,2), dtype=float)\n",
    "self.T = np.zeros((N,3))\n",
    "for i in range(0,N):\n",
    "    if self.Y[i] == 0:\n",
    "        self.T[i,0] = 1\n",
    "    if self.Y[i] == 1:\n",
    "        self.T[i,1] = 1\n",
    "    if self.Y[i] == 2:\n",
    "        self.T[i,2] = 1"
   ]
  },
  {
   "cell_type": "code",
   "execution_count": 259,
   "metadata": {
    "collapsed": true
   },
   "outputs": [],
   "source": [
    "# create softmax function for use in gradient calc and predictions\n",
    "def softmax(self):\n",
    "    vec=np.dot(self.X,self.W.T)\n",
    "    num=np.exp(vec)\n",
    "    denom=num.sum(axis=1)\n",
    "    res=(num.T/denom).T\n",
    "    return"
   ]
  },
  {
   "cell_type": "code",
   "execution_count": null,
   "metadata": {
    "collapsed": true
   },
   "outputs": [],
   "source": [
    "def gradient(self):\n",
    "    w = np.vstack((np.zeros(3), self.W.T[1:])).T\n",
    "    gradient = np.dot((self.softmax() - self.T).T, self.X) + self.lambda_parameter * w\n",
    "    return gradient"
   ]
  },
  {
   "cell_type": "code",
   "execution_count": null,
   "metadata": {
    "collapsed": true
   },
   "outputs": [],
   "source": [
    "def grad_descent(self):\n",
    "    while np.absolute(self.eta * gradient).sum() > 0.0001:\n",
    "        for sim in range(10000):\n",
    "            w = np.vstack((np.zeros(3), self.W.T[1:])).T\n",
    "            gradient = np.dot((self.softmax() - self.T).T, self.X) + self.lambda_parameter * w\n",
    "            self.W = self.W - self.eta * gradient\n",
    "    return"
   ]
  },
  {
   "cell_type": "code",
   "execution_count": null,
   "metadata": {
    "collapsed": true
   },
   "outputs": [],
   "source": [
    "class LogisticRegression:\n",
    "    def __init__(self, eta, lambda_parameter):\n",
    "        self.eta = eta\n",
    "        self.lambda_parameter = lambda_parameter\n",
    "        self.W = np.ones((3,2), dtype=float) # initial w matrix vals set to 1\n",
    "        \n",
    "    def target_vec(self)\n",
    "        T = np.zeros((self.C.shape[0],3)) # create target vector\n",
    "        for i in range(0,self.C.shape[0]):\n",
    "            if self.Y[i] == 0:\n",
    "                T[i,0] = 1\n",
    "            if self.Y[i] == 1:\n",
    "                T[i,1] = 1\n",
    "            if Y[i] == 2:\n",
    "                self.T[i,2] = 1\n",
    "        self.T = T\n",
    "        \n",
    "    # create softmax function for use in gradient calc and predictions\n",
    "    def softmax(self):\n",
    "        vec=np.dot(self.X,self.W.T)\n",
    "        num=np.exp(vec)\n",
    "        denom=num.sum(axis=1)\n",
    "        res=(num.T/denom).T\n",
    "        return\n",
    "\n",
    "    # gradient descent algorithm\n",
    "    def grad_descent(self):\n",
    "        gradient = 1\n",
    "        while np.absolute(self.eta * gradient).sum() > 0.0001: # break if achieve sufficient precision\n",
    "            for sim in range(10000): # otherwise continue simulating for finite time\n",
    "                w = np.vstack((np.zeros(3), self.W.T[1:])).T\n",
    "                gradient = np.dot((self.softmax() - self.T).T, self.X) + self.lambda_parameter * w\n",
    "                self.W = self.W - self.eta * gradient\n",
    "        return\n",
    "    \n",
    "    # TODO: Implement this method!\n",
    "    def fit(self, X, C):\n",
    "        self.X = X\n",
    "        self.C = C\n",
    "        self.grad_descent()\n",
    "        return\n",
    "        \n",
    "    # TODO: Implement this method!\n",
    "    def predict(self, X_to_predict):\n",
    "        # The code in this method should be removed and replaced! We included it just so that the distribution code\n",
    "        # is runnable and produces a (currently meaningless) visualization\n",
    "        self.X = X_to_predict\n",
    "        pred = self.softmax()\n",
    "        label = pred.argmax(axis=1)\n",
    "        return label\n",
    "    \n",
    "    \n",
    "    # DON'T change this\n",
    "    def visualize(self, output_file, width=2, show_charts=False):\n",
    "        X = self.X\n",
    "\n",
    "        # Create a grid of points\n",
    "        x_min, x_max = min(X[:, 0] - width), max(X[:, 0] + width)\n",
    "        y_min, y_max = min(X[:, 1] - width), max(X[:, 1] + width)\n",
    "        xx,yy = np.meshgrid(np.arange(x_min, x_max, .05), np.arange(y_min,\n",
    "            y_max, .05))\n",
    "\n",
    "        # Flatten the grid so the values match spec for self.predict\n",
    "        xx_flat = xx.flatten()\n",
    "        yy_flat = yy.flatten()\n",
    "        X_topredict = np.vstack((xx_flat,yy_flat)).T\n",
    "\n",
    "        # Get the class predictions\n",
    "        Y_hat = self.predict(X_topredict)\n",
    "        Y_hat = Y_hat.reshape((xx.shape[0], xx.shape[1]))\n",
    "        \n",
    "        cMap = c.ListedColormap(['r','b','g'])\n",
    "\n",
    "        # Visualize them.\n",
    "        plt.figure()\n",
    "        plt.pcolormesh(xx,yy,Y_hat, cmap=cMap)\n",
    "        plt.scatter(X[:, 0], X[:, 1], c=self.C, cmap=cMap)\n",
    "        plt.savefig(output_file)\n",
    "        if show_charts:\n",
    "            plt.show()"
   ]
  },
  {
   "cell_type": "code",
   "execution_count": 174,
   "metadata": {
    "collapsed": false
   },
   "outputs": [],
   "source": [
    "def softmax(W,k,phi):\n",
    "    vec=np.dot(W[k,:].T,phi)\n",
    "    num=np.exp(vec)\n",
    "    vec2=np.exp(np.dot(W[0,:].T,phi))+np.exp(np.dot(W[1,:].T,phi))+np.exp(np.dot(W[2,:].T,phi))\n",
    "    denom=np.sum(vec2)\n",
    "    res=num/denom\n",
    "    return res"
   ]
  },
  {
   "cell_type": "code",
   "execution_count": 175,
   "metadata": {
    "collapsed": true
   },
   "outputs": [],
   "source": [
    "def gradient(W,k):\n",
    "    gradient = 0\n",
    "    for i in range(0,N):\n",
    "        phi_n = phi[i]\n",
    "        gradient += np.dot((softmax(W,k,phi_n)-T[i,k]),phi_n)\n",
    "    return gradient"
   ]
  },
  {
   "cell_type": "code",
   "execution_count": 176,
   "metadata": {
    "collapsed": false
   },
   "outputs": [],
   "source": [
    "gradients = np.vstack((gradient(W,0),gradient(W,1),gradient(W,2)))"
   ]
  },
  {
   "cell_type": "code",
   "execution_count": 177,
   "metadata": {
    "collapsed": false
   },
   "outputs": [
    {
     "data": {
      "text/plain": [
       "array([[  0.66666667,  -1.96666667,  11.8       ],\n",
       "       [ -4.33333333, -33.56666667, -21.4       ],\n",
       "       [  3.66666667,  35.53333333,   9.6       ]])"
      ]
     },
     "execution_count": 177,
     "metadata": {},
     "output_type": "execute_result"
    }
   ],
   "source": [
    "gradients"
   ]
  },
  {
   "cell_type": "code",
   "execution_count": 179,
   "metadata": {
    "collapsed": false
   },
   "outputs": [],
   "source": [
    "grad_old = W\n",
    "grad_new = gradients\n",
    "for sim in range(0,1000):\n",
    "    grad_old = grad_new\n",
    "    grad_new = grad_old - gamma * np.vstack((gradient(grad_old,0),gradient(grad_old,1),gradient(grad_old,2)))"
   ]
  },
  {
   "cell_type": "code",
   "execution_count": 180,
   "metadata": {
    "collapsed": false
   },
   "outputs": [
    {
     "data": {
      "text/plain": [
       "array([[ -1.64982301,   6.28616388,  -7.14079664],\n",
       "       [  1.44774388,   8.34519234,  -5.76509563],\n",
       "       [  0.20207912, -14.63135622,  12.90589228]])"
      ]
     },
     "execution_count": 180,
     "metadata": {},
     "output_type": "execute_result"
    }
   ],
   "source": [
    "grad_new"
   ]
  },
  {
   "cell_type": "code",
   "execution_count": 182,
   "metadata": {
    "collapsed": false
   },
   "outputs": [],
   "source": [
    "y1_phi = softmax(grad_new,0,phi.T)\n",
    "y2_phi = softmax(grad_new,1,phi.T)\n",
    "y3_phi = softmax(grad_new,2,phi.T)"
   ]
  },
  {
   "cell_type": "code",
   "execution_count": 185,
   "metadata": {
    "collapsed": false
   },
   "outputs": [
    {
     "data": {
      "text/plain": [
       "array([  2.16124223e-26,   1.18563620e-26,   1.34438895e-20,\n",
       "         2.49916422e-15,   1.01749755e-21,   7.34817259e-17,\n",
       "         1.89148645e-16,   1.28752616e-18,   3.68498361e-17,\n",
       "         2.61913124e-21,   4.58916817e-23,   3.46057942e-20,\n",
       "         5.43345816e-19,   8.56243774e-22,   1.34438895e-20,\n",
       "         1.49479125e-19,   1.77630073e-19,   1.59757362e-20,\n",
       "         6.04132139e-18,   5.51202469e-27,   2.82929888e-26,\n",
       "         1.09914488e-26,   2.54462163e-27,   2.28858792e-28,\n",
       "         1.96121165e-18,   7.95553611e-21,   2.28529644e-23,\n",
       "         5.04671534e-10,   1.03765084e-16,   6.18362866e-17,\n",
       "         5.20364253e-17,   1.17696695e-18,   1.89843979e-20,\n",
       "         3.44790450e-16,   1.66201967e-18,   9.08428132e-15,\n",
       "         1.89148645e-16,   2.11082603e-19,   5.78579535e-16,\n",
       "         1.15373709e-15,   5.20364253e-17,   2.90147799e-16,\n",
       "         2.50835146e-19,   5.95329729e-02,   1.82103127e-01,\n",
       "         4.06727924e-08,   3.79166591e-03,   5.97518234e-06,\n",
       "         1.04312003e-03,   5.04509404e-02,   4.26115087e-06,\n",
       "         5.08225499e-10,   1.39305120e-06,   5.63013063e-05,\n",
       "         4.73786329e-05,   8.33206847e-11,   5.06364043e-06,\n",
       "         1.36099214e-07,   2.71393477e-07])"
      ]
     },
     "execution_count": 185,
     "metadata": {},
     "output_type": "execute_result"
    }
   ],
   "source": [
    "y3_phi"
   ]
  },
  {
   "cell_type": "markdown",
   "metadata": {},
   "source": [
    "# GaussianGenerative"
   ]
  },
  {
   "cell_type": "code",
   "execution_count": 186,
   "metadata": {
    "collapsed": true
   },
   "outputs": [],
   "source": [
    "# need to estimate mu1,mu2,mu3 and shared covar matrix sigma"
   ]
  },
  {
   "cell_type": "code",
   "execution_count": 238,
   "metadata": {
    "collapsed": false
   },
   "outputs": [],
   "source": [
    "N_tot = N*3.0"
   ]
  },
  {
   "cell_type": "code",
   "execution_count": 203,
   "metadata": {
    "collapsed": false
   },
   "outputs": [],
   "source": [
    "mus = [0,0,0]\n",
    "for k in range(0,3):\n",
    "    for i in range(0,N):\n",
    "        mus[k] += T[i,k]*phi[i]\n",
    "    mus[k] = mus[k]/N"
   ]
  },
  {
   "cell_type": "code",
   "execution_count": 204,
   "metadata": {
    "collapsed": false
   },
   "outputs": [
    {
     "data": {
      "text/plain": [
       "[array([ 0.3220339 ,  2.40169492,  2.36440678]),\n",
       " array([ 0.40677966,  2.93728814,  2.92711864]),\n",
       " array([ 0.27118644,  1.76610169,  2.40169492])]"
      ]
     },
     "execution_count": 204,
     "metadata": {},
     "output_type": "execute_result"
    }
   ],
   "source": [
    "mus"
   ]
  },
  {
   "cell_type": "code",
   "execution_count": 232,
   "metadata": {
    "collapsed": false
   },
   "outputs": [],
   "source": [
    "sigma_shared = 0.0\n",
    "S_k = 0.0\n",
    "for k in range(0,3):\n",
    "    for i in range(0,N):\n",
    "        S_k += T[i,k]*np.dot((phi[i]-mus[k]),(phi[i]-mus[k]).T)\n",
    "    sigma_shared += S_k/N_tot"
   ]
  },
  {
   "cell_type": "code",
   "execution_count": 233,
   "metadata": {
    "collapsed": false
   },
   "outputs": [
    {
     "data": {
      "text/plain": [
       "33.346098302812528"
      ]
     },
     "execution_count": 233,
     "metadata": {},
     "output_type": "execute_result"
    }
   ],
   "source": [
    "sigma_shared"
   ]
  },
  {
   "cell_type": "code",
   "execution_count": 239,
   "metadata": {
    "collapsed": true
   },
   "outputs": [],
   "source": [
    "priors = [N/N_tot,N/N_tot,N/N_tot]"
   ]
  },
  {
   "cell_type": "code",
   "execution_count": 240,
   "metadata": {
    "collapsed": false
   },
   "outputs": [
    {
     "data": {
      "text/plain": [
       "[0.3333333333333333, 0.3333333333333333, 0.3333333333333333]"
      ]
     },
     "execution_count": 240,
     "metadata": {},
     "output_type": "execute_result"
    }
   ],
   "source": [
    "priors"
   ]
  },
  {
   "cell_type": "code",
   "execution_count": 241,
   "metadata": {
    "collapsed": true
   },
   "outputs": [],
   "source": [
    "from scipy.stats import norm"
   ]
  },
  {
   "cell_type": "code",
   "execution_count": null,
   "metadata": {
    "collapsed": true
   },
   "outputs": [],
   "source": [
    "import pylab\n",
    "from scipy.stats import norm\n",
    "x = np.linspace(-10,10,1000)\n",
    "y = norm.pdf(x, loc=2.5, scale=1.5)    # for example\n",
    "pylab.plot(x,y)\n",
    "pylab.show()"
   ]
  },
  {
   "cell_type": "code",
   "execution_count": 250,
   "metadata": {
    "collapsed": false
   },
   "outputs": [],
   "source": [
    "post_c1 = priors[0]*norm.pdf(phi, loc=mus[0], scale=np.sqrt(sigma_shared))\n",
    "post_c2 = priors[1]*norm.pdf(phi, loc=mus[1], scale=np.sqrt(sigma_shared))\n",
    "post_c3 = priors[2]*norm.pdf(phi, loc=mus[2], scale=np.sqrt(sigma_shared))"
   ]
  },
  {
   "cell_type": "code",
   "execution_count": 253,
   "metadata": {
    "collapsed": false
   },
   "outputs": [
    {
     "data": {
      "image/png": "[encoded data removed]",
      "text/plain": [
       "<matplotlib.figure.Figure at 0x10fa37bd0>"
      ]
     },
     "metadata": {},
     "output_type": "display_data"
    }
   ],
   "source": [
    "plt.plot(post_c1)\n",
    "plt.plot(post_c2)\n",
    "plt.plot(post_c3)\n",
    "plt.show()"
   ]
  },
  {
   "cell_type": "code",
   "execution_count": 254,
   "metadata": {
    "collapsed": true
   },
   "outputs": [],
   "source": [
    "predictions = np.hstack((post_c1,post_c2,post_c3))"
   ]
  },
  {
   "cell_type": "code",
   "execution_count": 256,
   "metadata": {
    "collapsed": false
   },
   "outputs": [
    {
     "data": {
      "text/plain": [
       "(59, 9)"
      ]
     },
     "execution_count": 256,
     "metadata": {},
     "output_type": "execute_result"
    }
   ],
   "source": [
    "predictions.shape"
   ]
  },
  {
   "cell_type": "code",
   "execution_count": 257,
   "metadata": {
    "collapsed": false
   },
   "outputs": [
    {
     "data": {
      "text/plain": [
       "(59, 3)"
      ]
     },
     "execution_count": 257,
     "metadata": {},
     "output_type": "execute_result"
    }
   ],
   "source": [
    "post_c1.shape"
   ]
  },
  {
   "cell_type": "code",
   "execution_count": 258,
   "metadata": {
    "collapsed": false
   },
   "outputs": [
    {
     "data": {
      "text/plain": [
       "array([[ 0.02287037,  0.01342671,  0.01598215],\n",
       "       [ 0.02287037,  0.01439382,  0.0171454 ],\n",
       "       [ 0.02287037,  0.01583356,  0.01621804],\n",
       "       [ 0.02287037,  0.01653947,  0.01478656],\n",
       "       [ 0.02287037,  0.01583356,  0.01668527],\n",
       "       [ 0.02287037,  0.01700197,  0.01598215],\n",
       "       [ 0.02287037,  0.01653947,  0.0152674 ],\n",
       "       [ 0.02287037,  0.01677164,  0.01645246],\n",
       "       [ 0.02287037,  0.01607027,  0.01502731],\n",
       "       [ 0.02287037,  0.01535673,  0.01598215],\n",
       "       [ 0.02287037,  0.01511692,  0.01645246],\n",
       "       [ 0.02287037,  0.01535673,  0.01550668],\n",
       "       [ 0.02287037,  0.01559566,  0.0152674 ],\n",
       "       [ 0.02287037,  0.01559566,  0.01645246],\n",
       "       [ 0.02287037,  0.01583356,  0.01621804],\n",
       "       [ 0.02287037,  0.01559566,  0.01550668],\n",
       "       [ 0.02287037,  0.01583356,  0.01574498],\n",
       "       [ 0.02287037,  0.01607027,  0.01645246],\n",
       "       [ 0.02287037,  0.01535673,  0.0145453 ],\n",
       "       [ 0.02287037,  0.01854889,  0.02121992],\n",
       "       [ 0.02287037,  0.01896493,  0.02136587],\n",
       "       [ 0.02287037,  0.01936705,  0.02177054],\n",
       "       [ 0.02287037,  0.01916781,  0.02177054],\n",
       "       [ 0.02287037,  0.01936705,  0.02212309],\n",
       "       [ 0.02287037,  0.01198816,  0.01096299],\n",
       "       [ 0.02287037,  0.01151609,  0.01142864],\n",
       "       [ 0.02287037,  0.01058881,  0.01142864],\n",
       "       [ 0.02287037,  0.01559566,  0.01142864],\n",
       "       [ 0.02287037,  0.01745644,  0.01645246],\n",
       "       [ 0.02287037,  0.01677164,  0.01574498],\n",
       "       [ 0.02287037,  0.01653947,  0.01550668],\n",
       "       [ 0.02287037,  0.0148764 ,  0.01430369],\n",
       "       [ 0.02287037,  0.01630563,  0.01668527],\n",
       "       [ 0.02287037,  0.01559566,  0.01406188],\n",
       "       [ 0.02287037,  0.01535673,  0.01478656],\n",
       "       [ 0.02287037,  0.01653947,  0.0145453 ],\n",
       "       [ 0.02287037,  0.01653947,  0.0152674 ],\n",
       "       [ 0.02287037,  0.01607027,  0.01598215],\n",
       "       [ 0.02287037,  0.01630563,  0.01478656],\n",
       "       [ 0.02287037,  0.01723029,  0.01574498],\n",
       "       [ 0.02287037,  0.01653947,  0.01550668],\n",
       "       [ 0.02287037,  0.01535673,  0.01382001],\n",
       "       [ 0.02287037,  0.01630563,  0.01621804],\n",
       "       [ 0.02287037,  0.01630563,  0.0089575 ],\n",
       "       [ 0.02287037,  0.01607027,  0.00853603],\n",
       "       [ 0.02287037,  0.01630563,  0.01142864],\n",
       "       [ 0.02287037,  0.01607027,  0.00917185],\n",
       "       [ 0.02287037,  0.01607027,  0.0102767 ],\n",
       "       [ 0.02287037,  0.01607027,  0.00938851],\n",
       "       [ 0.02287037,  0.01936705,  0.01261477],\n",
       "       [ 0.02287037,  0.01896493,  0.01382001],\n",
       "       [ 0.02287037,  0.01896493,  0.01550668],\n",
       "       [ 0.02287037,  0.01916781,  0.01430369],\n",
       "       [ 0.02287037,  0.01896493,  0.01333667],\n",
       "       [ 0.02287037,  0.01875857,  0.01309549],\n",
       "       [ 0.02287037,  0.01833606,  0.01502731],\n",
       "       [ 0.02287037,  0.01916781,  0.01406188],\n",
       "       [ 0.02287037,  0.01790158,  0.01309549],\n",
       "       [ 0.02287037,  0.01875857,  0.01406188]])"
      ]
     },
     "execution_count": 258,
     "metadata": {},
     "output_type": "execute_result"
    }
   ],
   "source": [
    "post_c1"
   ]
  },
  {
   "cell_type": "code",
   "execution_count": 271,
   "metadata": {
    "collapsed": true
   },
   "outputs": [],
   "source": [
    "from scipy.stats import multivariate_normal\n",
    "import numpy as np\n",
    "import matplotlib.pyplot as plt\n",
    "import matplotlib.colors as c\n",
    "\n",
    "# Please implement the fit and predict methods of this class. You can add additional private methods\n",
    "# by beginning them with two underscores. It may look like the __dummyPrivateMethod below.\n",
    "# You can feel free to change any of the class attributes, as long as you do not change any of \n",
    "# the given function headers (they must take and return the same arguments), and as long as you\n",
    "# don't change anything in the .visualize() method. \n",
    "class GaussianGenerativeModel:\n",
    "    def __init__(self, isSharedCovariance=False):\n",
    "        self.isSharedCovariance = isSharedCovariance\n",
    "\n",
    "    # Just to show how to make 'private' methods\n",
    "    #def __dummyPrivateMethod(self, input):\n",
    "    #    return None\n",
    "\n",
    "    # target vector, n*k\n",
    "    def target(self):\n",
    "        T = np.zeros((self.Y.shape[0],3))\n",
    "        for i in range(T.shape[0]):\n",
    "            T[i,self.Y[i]] = 1\n",
    "        self.T = T\n",
    "        return\n",
    "        \n",
    "    def N(self):\n",
    "        n = self.T.sum(axis=0)\n",
    "        self.n = n\n",
    "        return\n",
    "    \n",
    "    def prior(self):\n",
    "        prior = self.n/sum(self.n)\n",
    "        self.prior = prior\n",
    "        return\n",
    "    \n",
    "    def mu(self):\n",
    "        phi = np.dot(self.X.T, self.T).T\n",
    "        mu = (phi.T / self.n).T\n",
    "        self.mu = mu\n",
    "        return\n",
    "\n",
    "    def covar(self):\n",
    "        partition_indices = [self.n[0],self.n[0]+self.n[1],self.n.sum()]\n",
    "        phi = [self.X[i:j] for i, j in zip([0]+partition_indices, partition_indices+[None])]\n",
    "        s_k = []\n",
    "        shared = np.zeros([2,2])\n",
    "        for k in set(self.Y):\n",
    "            shared += np.dot((phi[k]-self.mu[k]).T, (phi[k]-self.mu[k]))\n",
    "            s_k.append(np.dot((phi[k]-self.mu[k]).T, (phi[k]-self.mu[k]))/phi[k].shape[0])\n",
    "        self.s_k = np.array(S_sep)\n",
    "        self.shared = shared/self.X.shape[0]\n",
    "        return\n",
    "\n",
    "\n",
    "    def posterior(self,x):\n",
    "        posteriors = []\n",
    "        for ks in set(self.Y):\n",
    "            if self.isSharedCovariance == True:\n",
    "                likelihood = multivariate_normal.pdf(x, self.mu[ks], self.shared)\n",
    "            if self.isSharedCovariance == False:\n",
    "                likelihood = multivariate_normal.pdf(x, self.mu[ks], self.S_k[k])\n",
    "            prob = likelihood * self.prior[ks]\n",
    "            posteriors.append(prob)\n",
    "        return posteriors\n",
    "\n",
    "    # TODO: Implement this method!\n",
    "    def fit(self, X, Y):\n",
    "        self.X = X\n",
    "        self.Y = Y\n",
    "        self.target()\n",
    "        self.N()\n",
    "        self.prior()\n",
    "        self.mu()\n",
    "        self.covar()\n",
    "        return\n",
    "\n",
    "    # TODO: Implement this method!\n",
    "    def predict(self, X_to_predict):\n",
    "        # The code in this method should be removed and replaced! We included it just so that the distribution code\n",
    "        # is runnable and produces a (currently meaningless) visualization.\n",
    "        self.X = X_to_predict\n",
    "        all_probs = []\n",
    "        for i in range(self.X.shape[0]):\n",
    "            probs = self.posterior(self.X[i])\n",
    "            all_probs.append(probs)\n",
    "        pred = np.array(all_probs)\n",
    "        pred = pred.argmax(axis=1)\n",
    "        return pred\n",
    "\n",
    "    # Do not modify this method!\n",
    "    def visualize(self, output_file, width=3, show_charts=False):\n",
    "        X = self.X\n",
    "\n",
    "        # Create a grid of points\n",
    "        x_min, x_max = min(X[:, 0] - width), max(X[:, 0] + width)\n",
    "        y_min, y_max = min(X[:, 1] - width), max(X[:, 1] + width)\n",
    "        xx,yy = np.meshgrid(np.arange(x_min, x_max, .05), np.arange(y_min,\n",
    "            y_max, .05))\n",
    "\n",
    "        # Flatten the grid so the values match spec for self.predict\n",
    "        xx_flat = xx.flatten()\n",
    "        yy_flat = yy.flatten()\n",
    "        X_topredict = np.vstack((xx_flat,yy_flat)).T\n",
    "\n",
    "        # Get the class predictions\n",
    "        Y_hat = self.predict(X_topredict)\n",
    "        Y_hat = Y_hat.reshape((xx.shape[0], xx.shape[1]))\n",
    "\n",
    "        cMap = c.ListedColormap(['r','b','g'])\n",
    "\n",
    "        # Visualize them.\n",
    "        plt.figure()\n",
    "        plt.pcolormesh(xx,yy,Y_hat, cmap=cMap)\n",
    "        plt.scatter(X[:, 0], X[:, 1], c=self.Y, cmap=cMap)\n",
    "        plt.savefig(output_file)\n",
    "        if show_charts:\n",
    "            plt.show()\n",
    "\n"
   ]
  },
  {
   "cell_type": "code",
   "execution_count": 4,
   "metadata": {
    "collapsed": false
   },
   "outputs": [],
   "source": [
    "import numpy as np\n",
    "df = pd.read_csv(\"fruit.csv\")\n",
    "X = df[['width', 'height']].values\n",
    "Y = (df['fruit'] - 1).values\n",
    "T = np.zeros((Y.shape[0],3))\n",
    "for i in range(T.shape[0]):\n",
    "    T[i,Y[i]] = 1\n",
    "N = T.sum(axis=0)\n",
    "X1 = X[:N[0]]\n",
    "X2 = X[N[0] : N[0]+N[1]]\n",
    "X3 = X[N[0]+N[1]:]\n",
    "XX = [X1,X2,X3]"
   ]
  },
  {
   "cell_type": "code",
   "execution_count": 11,
   "metadata": {
    "collapsed": false
   },
   "outputs": [
    {
     "data": {
      "text/plain": [
       "array([ 19.,  24.,  16.])"
      ]
     },
     "execution_count": 11,
     "metadata": {},
     "output_type": "execute_result"
    }
   ],
   "source": [
    "N"
   ]
  },
  {
   "cell_type": "code",
   "execution_count": 32,
   "metadata": {
    "collapsed": true
   },
   "outputs": [],
   "source": [
    "N_new = [N[0],N[0]+N[1],N.sum()]"
   ]
  },
  {
   "cell_type": "code",
   "execution_count": 33,
   "metadata": {
    "collapsed": false
   },
   "outputs": [
    {
     "data": {
      "text/plain": [
       "[19.0, 43.0, 59.0]"
      ]
     },
     "execution_count": 33,
     "metadata": {},
     "output_type": "execute_result"
    }
   ],
   "source": [
    "N_new"
   ]
  },
  {
   "cell_type": "code",
   "execution_count": 12,
   "metadata": {
    "collapsed": true
   },
   "outputs": [],
   "source": [
    "def partition(alist, indices):\n",
    "    return [alist[i:j] for i, j in zip([0]+indices, indices+[None])]"
   ]
  },
  {
   "cell_type": "code",
   "execution_count": 17,
   "metadata": {
    "collapsed": true
   },
   "outputs": [],
   "source": [
    "ns = [19,24,16]"
   ]
  },
  {
   "cell_type": "code",
   "execution_count": 34,
   "metadata": {
    "collapsed": false
   },
   "outputs": [],
   "source": [
    "partitions = partition(X,N_new)"
   ]
  },
  {
   "cell_type": "code",
   "execution_count": 38,
   "metadata": {
    "collapsed": false
   },
   "outputs": [
    {
     "data": {
      "text/plain": [
       "array([[ 6.2,  4.7],\n",
       "       [ 6. ,  4.6],\n",
       "       [ 5.8,  4.3],\n",
       "       [ 5.9,  4.3],\n",
       "       [ 5.8,  4. ],\n",
       "       [ 9. ,  9.4],\n",
       "       [ 9.2,  9.2],\n",
       "       [ 9.6,  9.2],\n",
       "       [ 7.5,  9.2],\n",
       "       [ 6.7,  7.1],\n",
       "       [ 7. ,  7.4],\n",
       "       [ 7.1,  7.5],\n",
       "       [ 7.8,  8. ],\n",
       "       [ 7.2,  7. ],\n",
       "       [ 7.5,  8.1],\n",
       "       [ 7.6,  7.8],\n",
       "       [ 7.1,  7.9],\n",
       "       [ 7.1,  7.6],\n",
       "       [ 7.3,  7.3],\n",
       "       [ 7.2,  7.8],\n",
       "       [ 6.8,  7.4],\n",
       "       [ 7.1,  7.5],\n",
       "       [ 7.6,  8.2],\n",
       "       [ 7.2,  7.2]])"
      ]
     },
     "execution_count": 38,
     "metadata": {},
     "output_type": "execute_result"
    }
   ],
   "source": [
    "X2"
   ]
  },
  {
   "cell_type": "code",
   "execution_count": 39,
   "metadata": {
    "collapsed": false
   },
   "outputs": [
    {
     "data": {
      "text/plain": [
       "array([[ 6.2,  4.7],\n",
       "       [ 6. ,  4.6],\n",
       "       [ 5.8,  4.3],\n",
       "       [ 5.9,  4.3],\n",
       "       [ 5.8,  4. ],\n",
       "       [ 9. ,  9.4],\n",
       "       [ 9.2,  9.2],\n",
       "       [ 9.6,  9.2],\n",
       "       [ 7.5,  9.2],\n",
       "       [ 6.7,  7.1],\n",
       "       [ 7. ,  7.4],\n",
       "       [ 7.1,  7.5],\n",
       "       [ 7.8,  8. ],\n",
       "       [ 7.2,  7. ],\n",
       "       [ 7.5,  8.1],\n",
       "       [ 7.6,  7.8],\n",
       "       [ 7.1,  7.9],\n",
       "       [ 7.1,  7.6],\n",
       "       [ 7.3,  7.3],\n",
       "       [ 7.2,  7.8],\n",
       "       [ 6.8,  7.4],\n",
       "       [ 7.1,  7.5],\n",
       "       [ 7.6,  8.2],\n",
       "       [ 7.2,  7.2]])"
      ]
     },
     "execution_count": 39,
     "metadata": {},
     "output_type": "execute_result"
    }
   ],
   "source": [
    "partitions[1]"
   ]
  },
  {
   "cell_type": "code",
   "execution_count": 1,
   "metadata": {
    "collapsed": false
   },
   "outputs": [
    {
     "name": "stderr",
     "output_type": "stream",
     "text": [
      "/Users/Luke/anaconda/lib/python2.7/site-packages/matplotlib/collections.py:590: FutureWarning: elementwise comparison failed; returning scalar instead, but in the future will perform elementwise comparison\n",
      "  if self._edgecolors == str('face'):\n"
     ]
    },
    {
     "data": {
      "image/png": "[encoded data removed]",
      "text/plain": [
       "<matplotlib.figure.Figure at 0x1094d94d0>"
      ]
     },
     "metadata": {},
     "output_type": "display_data"
    },
    {
     "data": {
      "image/png": "[encoded data removed]",
      "text/plain": [
       "<matplotlib.figure.Figure at 0x1094d9ed0>"
      ]
     },
     "metadata": {},
     "output_type": "display_data"
    },
    {
     "data": {
      "image/png": "[encoded data removed]",
      "text/plain": [
       "<matplotlib.figure.Figure at 0x10a67bd50>"
      ]
     },
     "metadata": {},
     "output_type": "display_data"
    }
   ],
   "source": [
    "# Don't change these imports. Note that the last two are the\n",
    "# class implementations that you will implement in\n",
    "# LogisticRegression.py and GaussianNaiveBayes.py\n",
    "import matplotlib.pyplot as plt\n",
    "import pandas as pd\n",
    "from LogisticRegression_LM import LogisticRegression\n",
    "from GaussianGenerativeModel_LM import GaussianGenerativeModel\n",
    "%matplotlib inline\n",
    "\n",
    "## These are the hyperparameters to the classifiers. You may need to\n",
    "# adjust these as you try to find the best fit for each classifier.\n",
    "\n",
    "# Logistic Regression parameters\n",
    "eta = .1\n",
    "lambda_parameter = 5\n",
    "\n",
    "\n",
    "# Do not change anything below this line!!\n",
    "# -----------------------------------------------------------------\n",
    "\n",
    "# Read from file and extract X and Y\n",
    "df = pd.read_csv(\"fruit.csv\")\n",
    "X = df[['width', 'height']].values\n",
    "Y = (df['fruit'] - 1).values\n",
    "\n",
    "nb1 = GaussianGenerativeModel(isSharedCovariance=False)\n",
    "nb1.fit(X,Y)\n",
    "nb1.visualize(\"generative_result_separate_covariances.png\")\n",
    "\n",
    "nb2 = GaussianGenerativeModel(isSharedCovariance=True)\n",
    "nb2.fit(X,Y)\n",
    "nb2.visualize(\"generative_result_shared_covariances.png\")\n",
    "\n",
    "lr = LogisticRegression(eta=eta, lambda_parameter=lambda_parameter)\n",
    "lr.fit(X,Y)\n",
    "lr.visualize('logistic_regression_result.png')"
   ]
  },
  {
   "cell_type": "code",
   "execution_count": 3,
   "metadata": {
    "collapsed": false
   },
   "outputs": [
    {
     "data": {
      "image/png": "[encoded data removed]",
      "text/plain": [
       "<matplotlib.figure.Figure at 0x10a06ee90>"
      ]
     },
     "metadata": {},
     "output_type": "display_data"
    },
    {
     "data": {
      "image/png": "[encoded data removed]",
      "text/plain": [
       "<matplotlib.figure.Figure at 0x109b573d0>"
      ]
     },
     "metadata": {},
     "output_type": "display_data"
    },
    {
     "data": {
      "image/png": "[encoded data removed]",
      "text/plain": [
       "<matplotlib.figure.Figure at 0x10951de90>"
      ]
     },
     "metadata": {},
     "output_type": "display_data"
    }
   ],
   "source": [
    "# Don't change these imports. Note that the last two are the\n",
    "# class implementations that you will implement in\n",
    "# LogisticRegression.py and GaussianNaiveBayes.py\n",
    "import matplotlib.pyplot as plt\n",
    "import pandas as pd\n",
    "from LogisticRegression_LM import LogisticRegression\n",
    "from GaussianGenerativeModel_LM import GaussianGenerativeModel\n",
    "%matplotlib inline\n",
    "\n",
    "## These are the hyperparameters to the classifiers. You may need to\n",
    "# adjust these as you try to find the best fit for each classifier.\n",
    "\n",
    "# Logistic Regression parameters\n",
    "eta = .1\n",
    "lambda_parameter = .001\n",
    "\n",
    "\n",
    "# Do not change anything below this line!!\n",
    "# -----------------------------------------------------------------\n",
    "\n",
    "# Read from file and extract X and Y\n",
    "df = pd.read_csv(\"fruit.csv\")\n",
    "X = df[['width', 'height']].values\n",
    "Y = (df['fruit'] - 1).values\n",
    "\n",
    "nb1 = GaussianGenerativeModel(isSharedCovariance=False)\n",
    "nb1.fit(X,Y)\n",
    "nb1.visualize(\"generative_result_separate_covariances.png\")\n",
    "\n",
    "nb2 = GaussianGenerativeModel(isSharedCovariance=True)\n",
    "nb2.fit(X,Y)\n",
    "nb2.visualize(\"generative_result_shared_covariances.png\")\n",
    "\n",
    "lr = LogisticRegression(eta=eta, lambda_parameter=lambda_parameter)\n",
    "lr.fit(X,Y)\n",
    "lr.visualize('logistic_regression_result.png')"
   ]
  },
  {
   "cell_type": "code",
   "execution_count": null,
   "metadata": {
    "collapsed": true
   },
   "outputs": [],
   "source": []
  }
 ],
 "metadata": {
  "kernelspec": {
   "display_name": "Python 2",
   "language": "python",
   "name": "python2"
  },
  "language_info": {
   "codemirror_mode": {
    "name": "ipython",
    "version": 2
   },
   "file_extension": ".py",
   "mimetype": "text/x-python",
   "name": "python",
   "nbconvert_exporter": "python",
   "pygments_lexer": "ipython2",
   "version": "2.7.10"
  }
 },
 "nbformat": 4,
 "nbformat_minor": 0
}
