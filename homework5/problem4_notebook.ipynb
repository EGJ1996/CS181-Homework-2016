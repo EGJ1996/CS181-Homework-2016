{
 "cells": [
  {
   "cell_type": "markdown",
   "metadata": {},
   "source": [
    "# Working algorithm"
   ]
  },
  {
   "cell_type": "code",
   "execution_count": 1,
   "metadata": {
    "collapsed": true
   },
   "outputs": [],
   "source": [
    "from scipy.sparse import coo_matrix\n",
    "from scipy.sparse import csr_matrix\n",
    "from scipy.misc import logsumexp\n",
    "import numpy as np \n",
    "import matplotlib.pyplot as plt\n",
    "import matplotlib.image as mpimg\n",
    "from scipy.sparse import coo_matrix\n",
    "from scipy.sparse import csr_matrix\n",
    "from scipy.misc import logsumexp"
   ]
  },
  {
   "cell_type": "code",
   "execution_count": 2,
   "metadata": {
    "collapsed": true
   },
   "outputs": [],
   "source": [
    "%matplotlib inline"
   ]
  },
  {
   "cell_type": "code",
   "execution_count": 3,
   "metadata": {
    "collapsed": false
   },
   "outputs": [],
   "source": [
    "# This line loads the text for you. Don't change it! \n",
    "text_data = np.load(\"text.npy\", allow_pickle=False)\n",
    "with open('words.txt', 'r') as f:\n",
    "    word_dict_lines = f.readlines()\n",
    "    \n",
    "# Preprocessing\n",
    "text_data = text_data.astype('int')\n",
    "doc_id = text_data[:,0]\n",
    "word_id = text_data[:,1]\n",
    "count = text_data[:,2]\n",
    "\n",
    "D = max(doc_id)+1\n",
    "V = max(word_id)+1\n",
    "\n",
    "W = coo_matrix((count,(doc_id, word_id)), shape=(D, V)).tocsr()"
   ]
  },
  {
   "cell_type": "code",
   "execution_count": 37,
   "metadata": {
    "collapsed": false
   },
   "outputs": [
    {
     "name": "stderr",
     "output_type": "stream",
     "text": [
      "/Users/Luke/anaconda/lib/python2.7/site-packages/IPython/kernel/__main__.py:39: RuntimeWarning: divide by zero encountered in log\n",
      "/Users/Luke/anaconda/lib/python2.7/site-packages/IPython/kernel/__main__.py:43: RuntimeWarning: invalid value encountered in multiply\n"
     ]
    },
    {
     "name": "stdout",
     "output_type": "stream",
     "text": [
      "topic 0 ['20945 por\\n', '21615 projected\\n', '26460 studying\\n', '23314 researched\\n', '25801 specifiable\\n']\n",
      "topic 1 ['21750 proteomics\\n', '3725 cellular\\n', '23314 researched\\n', '3722 celle\\n', '21749 proteins\\n']\n",
      "topic 2 ['11389 geons\\n', '21502 problemsolving\\n', '26460 studying\\n', '23314 researched\\n', '27749 thep\\n']\n",
      "topic 3 ['21750 proteomics\\n', '3722 celle\\n', '11294 genealogical\\n', '3725 cellular\\n', '21749 proteins\\n']\n",
      "topic 4 ['25539 sociality\\n', '26460 studying\\n', '21615 projected\\n', '6270 database\\n', '23314 researched\\n']\n",
      "topic 5 ['5099 conferences\\n', '17514 montr\\n', '29138 universityoftennessee\\n', '26978 supportable\\n', '23314 researched\\n']\n",
      "topic 6 ['27248 systematic\\n', '16448 materiel\\n', '21615 projected\\n', '12380 higham\\n', '23314 researched\\n']\n",
      "topic 7 ['21502 problemsolving\\n', '27248 systematic\\n', '6924 designate\\n', '27260 systemwide\\n', '23314 researched\\n']\n",
      "topic 8 ['18998 oceanic\\n', '21615 projected\\n', '6270 database\\n', '26460 studying\\n', '23314 researched\\n']\n",
      "topic 9 ['21583 programing\\n', '23314 researched\\n', '21615 projected\\n', '24417 sciences\\n', '26455 studi\\n']\n",
      "topic 10 ['21691 property\\n', '16448 materiel\\n', '27260 systemwide\\n', '26460 studying\\n', '23314 researched\\n']\n",
      "topic 11 ['21615 projected\\n', '26460 studying\\n', '17327 modelbased\\n', '6270 database\\n', '23314 researched\\n']\n",
      "topic 12 ['3984 chemists\\n', '21583 programing\\n', '29138 universityoftennessee\\n', '26455 studi\\n', '23314 researched\\n']\n",
      "topic 13 ['7873 dra\\n', '17434 molecule\\n', '2571 biomass\\n', '29138 universityoftennessee\\n', '23314 researched\\n']\n",
      "topic 14 ['21615 projected\\n', '21691 property\\n', '16448 materiel\\n', '3984 chemists\\n', '23314 researched\\n']\n"
     ]
    }
   ],
   "source": [
    "# CS 181, Spring 2016\n",
    "# Homework 5: EM\n",
    "# Name: Luke Mueller\n",
    "# Email: lam908@mail.harvard.edu\n",
    "\n",
    "class LDA(object):\n",
    "\n",
    "    # Initializes with the number of topics\n",
    "    def __init__(self, num_topics):\n",
    "        self.num_topics = num_topics\n",
    "        \n",
    "        Beta = np.empty((num_topics,V))\n",
    "        for k in range(num_topics):\n",
    "            Beta[k] = np.random.dirichlet(np.ones(V))\n",
    "        \n",
    "        Theta = np.random.dirichlet(np.ones(num_topics))\n",
    "        \n",
    "        self.Beta = Beta\n",
    "        self.Theta = Theta\n",
    "        \n",
    "    # This should run the M step of the EM algorithm\n",
    "    def M_step(self):\n",
    "        Gamma = self.Gamma\n",
    "        # update theta_hat mat\n",
    "        self.Theta = (np.sum(Gamma, axis=0)/D).T\n",
    "\n",
    "        # update beta_hat mat\n",
    "        N_d = W.sum(axis=1)\n",
    "        numerator = W.transpose().dot(Gamma)\n",
    "        denominator = np.dot(N_d.T, Gamma)\n",
    "        self.Beta = (numerator/denominator).T\n",
    "        \n",
    "    # This should run the E step of the EM algorithm\n",
    "    def E_step(self):\n",
    "        Theta = self.Theta\n",
    "        Beta = self.Beta\n",
    "        \n",
    "        # update gamma mat\n",
    "        log_numerator = np.log(Theta.T) + W.dot(np.log(Beta.T))\n",
    "        log_denominator = logsumexp(log_numerator, axis=1).reshape((-1,1))\n",
    "        Gamma = np.exp(np.subtract(log_numerator, log_denominator))\n",
    "        \n",
    "        prod = np.multiply(Gamma, log_numerator)\n",
    "        prod[np.isnan(prod)] = 0\n",
    "        loglik = -logsumexp(prod)\n",
    "        \n",
    "        self.Gamma = Gamma\n",
    "        \n",
    "        return loglik\n",
    "        \n",
    "    def EM(self, iters):\n",
    "        objective = np.empty(iters)\n",
    "        for i in range(iters):\n",
    "            obj = self.E_step()\n",
    "            objective[i] = obj\n",
    "            self.M_step()\n",
    "        return objective   \n",
    "    \n",
    "    # This should print the topics that you find\n",
    "    def print_topics(self, num_words):\n",
    "        Beta = self.Beta\n",
    "        top_indices = np.argsort(Beta, axis=1)[:,Beta.shape[1]-num_words::]\n",
    "        for k in range(self.num_topics):\n",
    "            words = []\n",
    "            for w in range(num_words):\n",
    "                word_index = top_indices[k,w]\n",
    "                words.append(word_dict_lines[word_index])\n",
    "            print \"topic\", k, words\n",
    "\n",
    "\n",
    "# Feel free to add more functions as needed for the LDA class. You are welcome to change anything below this line. \n",
    "# However, your code should be contained in the constructor for the LDA class, and should be executed in a way \n",
    "# similar to the below.\n",
    "R = 50\n",
    "num_topics = 15\n",
    "LDAClassifier = LDA(num_topics=num_topics)\n",
    "loglik = LDAClassifier.EM(R)\n",
    "LDAClassifier.print_topics(5)"
   ]
  },
  {
   "cell_type": "code",
   "execution_count": 38,
   "metadata": {
    "collapsed": false
   },
   "outputs": [
    {
     "data": {
      "image/png": "[encoded data removed]",
      "text/plain": [
       "<matplotlib.figure.Figure at 0x10947c810>"
      ]
     },
     "metadata": {},
     "output_type": "display_data"
    }
   ],
   "source": [
    "plt.plot(range(R-1),loglik[1:,])\n",
    "plt.xlabel(\"Iterations\")\n",
    "plt.ylabel(\"Negative Expected Log Likelihood\")\n",
    "plt.title(\"Objective Function: Topics = %d\" %num_topics)\n",
    "plt.show()"
   ]
  },
  {
   "cell_type": "markdown",
   "metadata": {},
   "source": [
    "## Initialization"
   ]
  },
  {
   "cell_type": "code",
   "execution_count": 4,
   "metadata": {
    "collapsed": false
   },
   "outputs": [
    {
     "data": {
      "text/plain": [
       "(5224951, 3)"
      ]
     },
     "execution_count": 4,
     "metadata": {},
     "output_type": "execute_result"
    }
   ],
   "source": [
    "text_data.shape"
   ]
  },
  {
   "cell_type": "code",
   "execution_count": 5,
   "metadata": {
    "collapsed": false
   },
   "outputs": [
    {
     "data": {
      "text/plain": [
       "array([[    1,  4720,     1],\n",
       "       [    1,  9775,     4],\n",
       "       [    1, 19996,     1],\n",
       "       ..., \n",
       "       [72406, 12843,     1],\n",
       "       [72406, 10666,     1],\n",
       "       [72406, 19430,     1]])"
      ]
     },
     "execution_count": 5,
     "metadata": {},
     "output_type": "execute_result"
    }
   ],
   "source": [
    "text_data"
   ]
  },
  {
   "cell_type": "code",
   "execution_count": 6,
   "metadata": {
    "collapsed": false
   },
   "outputs": [],
   "source": [
    "text_data = text_data.astype('int')"
   ]
  },
  {
   "cell_type": "code",
   "execution_count": 7,
   "metadata": {
    "collapsed": false
   },
   "outputs": [],
   "source": [
    "doc_id = text_data[:,0]\n",
    "word_id = text_data[:,1]\n",
    "count = text_data[:,2]"
   ]
  },
  {
   "cell_type": "code",
   "execution_count": 8,
   "metadata": {
    "collapsed": false
   },
   "outputs": [],
   "source": [
    "D = max(doc_id)+1\n",
    "V = max(word_id)+1"
   ]
  },
  {
   "cell_type": "code",
   "execution_count": 9,
   "metadata": {
    "collapsed": false
   },
   "outputs": [
    {
     "name": "stdout",
     "output_type": "stream",
     "text": [
      "72407 30784\n"
     ]
    }
   ],
   "source": [
    "print D, V"
   ]
  },
  {
   "cell_type": "code",
   "execution_count": 10,
   "metadata": {
    "collapsed": true
   },
   "outputs": [],
   "source": [
    "K = 10"
   ]
  },
  {
   "cell_type": "code",
   "execution_count": 11,
   "metadata": {
    "collapsed": false
   },
   "outputs": [],
   "source": [
    "Beta = np.empty((K,V))\n",
    "for k in range(K):\n",
    "    Beta[k] = np.random.dirichlet(np.ones(V))"
   ]
  },
  {
   "cell_type": "code",
   "execution_count": 12,
   "metadata": {
    "collapsed": false
   },
   "outputs": [
    {
     "name": "stdout",
     "output_type": "stream",
     "text": [
      "(10, 30784)\n"
     ]
    },
    {
     "data": {
      "text/plain": [
       "array([[  1.92140216e-05,   5.34327727e-06,   1.17955096e-05, ...,\n",
       "          1.12885260e-05,   2.10782758e-06,   3.66575607e-05],\n",
       "       [  8.41272928e-06,   4.07034509e-07,   8.23606841e-05, ...,\n",
       "          4.89395399e-06,   4.23786843e-06,   1.88856872e-05],\n",
       "       [  4.58632270e-06,   6.01463900e-06,   1.15802004e-04, ...,\n",
       "          2.69356981e-05,   4.49160228e-05,   3.12733544e-05],\n",
       "       ..., \n",
       "       [  2.04506299e-05,   3.41690097e-05,   8.17709568e-05, ...,\n",
       "          4.37675646e-05,   9.61008974e-05,   7.43562551e-06],\n",
       "       [  1.20413627e-05,   1.02292653e-05,   4.25801926e-05, ...,\n",
       "          4.34030053e-05,   5.95167513e-06,   2.33640624e-05],\n",
       "       [  1.33840350e-05,   1.52611415e-06,   5.27281068e-06, ...,\n",
       "          2.73451824e-06,   4.18293553e-05,   3.59363537e-05]])"
      ]
     },
     "execution_count": 12,
     "metadata": {},
     "output_type": "execute_result"
    }
   ],
   "source": [
    "print Beta.shape\n",
    "Beta"
   ]
  },
  {
   "cell_type": "code",
   "execution_count": 13,
   "metadata": {
    "collapsed": false
   },
   "outputs": [],
   "source": [
    "K = 10"
   ]
  },
  {
   "cell_type": "code",
   "execution_count": 14,
   "metadata": {
    "collapsed": false
   },
   "outputs": [],
   "source": [
    "Theta = np.random.dirichlet(np.ones(K))"
   ]
  },
  {
   "cell_type": "code",
   "execution_count": 15,
   "metadata": {
    "collapsed": false
   },
   "outputs": [
    {
     "data": {
      "text/plain": [
       "array([ 0.04185428,  0.08168162,  0.23691707,  0.02268257,  0.0108687 ,\n",
       "        0.01853657,  0.11340429,  0.05839565,  0.11569916,  0.29996009])"
      ]
     },
     "execution_count": 15,
     "metadata": {},
     "output_type": "execute_result"
    }
   ],
   "source": [
    "Theta"
   ]
  },
  {
   "cell_type": "code",
   "execution_count": 16,
   "metadata": {
    "collapsed": false
   },
   "outputs": [
    {
     "data": {
      "text/plain": [
       "(10,)"
      ]
     },
     "execution_count": 16,
     "metadata": {},
     "output_type": "execute_result"
    }
   ],
   "source": [
    "Theta.shape"
   ]
  },
  {
   "cell_type": "code",
   "execution_count": 17,
   "metadata": {
    "collapsed": false
   },
   "outputs": [
    {
     "name": "stdout",
     "output_type": "stream",
     "text": [
      "CPU times: user 367 ms, sys: 50.3 ms, total: 418 ms\n",
      "Wall time: 418 ms\n"
     ]
    }
   ],
   "source": [
    "%%time\n",
    "W = coo_matrix((count,(doc_id, word_id)), shape=(D, V)).tocsr()"
   ]
  },
  {
   "cell_type": "code",
   "execution_count": 18,
   "metadata": {
    "collapsed": false
   },
   "outputs": [
    {
     "data": {
      "text/plain": [
       "(72407, 30784)"
      ]
     },
     "execution_count": 18,
     "metadata": {},
     "output_type": "execute_result"
    }
   ],
   "source": [
    "W.shape"
   ]
  },
  {
   "cell_type": "markdown",
   "metadata": {},
   "source": [
    "## E Step"
   ]
  },
  {
   "cell_type": "code",
   "execution_count": 19,
   "metadata": {
    "collapsed": false
   },
   "outputs": [],
   "source": [
    "log_numerator = np.log(Theta.T) + W.dot(np.log(Beta.T))\n",
    "log_denominator = logsumexp(log_numerator, axis=1).reshape((-1,1))\n",
    "Gamma = np.exp(np.subtract(log_numerator, log_denominator)) "
   ]
  },
  {
   "cell_type": "code",
   "execution_count": 20,
   "metadata": {
    "collapsed": false
   },
   "outputs": [
    {
     "data": {
      "text/plain": [
       "array([[  4.18542791e-02,   8.16816195e-02,   2.36917075e-01, ...,\n",
       "          5.83956456e-02,   1.15699160e-01,   2.99960091e-01],\n",
       "       [  4.91571436e-19,   7.72654095e-12,   2.88923818e-13, ...,\n",
       "          2.60343567e-19,   1.59966128e-12,   9.99999860e-01],\n",
       "       [  4.85290065e-19,   4.05266773e-12,   9.71816953e-18, ...,\n",
       "          1.07144721e-21,   4.57820268e-20,   5.23996256e-26],\n",
       "       ..., \n",
       "       [  6.68123249e-36,   3.74534431e-26,   1.00000000e+00, ...,\n",
       "          5.87877624e-20,   5.03111867e-43,   4.83366332e-47],\n",
       "       [  1.18908680e-23,   2.17900697e-05,   1.68124250e-11, ...,\n",
       "          4.24675477e-04,   9.98907462e-01,   8.44134580e-17],\n",
       "       [  2.28020292e-21,   9.99323333e-01,   8.04159037e-20, ...,\n",
       "          1.23027288e-27,   1.15449546e-18,   1.23403479e-37]])"
      ]
     },
     "execution_count": 20,
     "metadata": {},
     "output_type": "execute_result"
    }
   ],
   "source": [
    "Gamma"
   ]
  },
  {
   "cell_type": "code",
   "execution_count": 21,
   "metadata": {
    "collapsed": true
   },
   "outputs": [],
   "source": [
    "Zd = np.argmax(Gamma, axis=1)"
   ]
  },
  {
   "cell_type": "code",
   "execution_count": 22,
   "metadata": {
    "collapsed": false
   },
   "outputs": [
    {
     "data": {
      "text/plain": [
       "array([9, 9, 3, ..., 2, 8, 1])"
      ]
     },
     "execution_count": 22,
     "metadata": {},
     "output_type": "execute_result"
    }
   ],
   "source": [
    "Zd"
   ]
  },
  {
   "cell_type": "code",
   "execution_count": 23,
   "metadata": {
    "collapsed": false
   },
   "outputs": [],
   "source": [
    "Z1hot = np.empty((D,K))\n",
    "for d in xrange(D):\n",
    "    Z1hot[d,Zd[d]] = 1"
   ]
  },
  {
   "cell_type": "code",
   "execution_count": 24,
   "metadata": {
    "collapsed": false
   },
   "outputs": [
    {
     "data": {
      "text/plain": [
       "array([[  -3.17356124,   -2.50492628,   -1.44004509, ...,   -2.84051395,\n",
       "          -2.1567619 ,    1.        ],\n",
       "       [ -42.15667968,  -25.58635984,  -28.87261335, ...,  -42.79228478,\n",
       "         -27.16122921,    1.        ],\n",
       "       [ -42.16954017,  -26.23164575,  -39.17253439, ...,  -48.28527669,\n",
       "         -44.53039537,  -58.21089806],\n",
       "       ..., \n",
       "       [ -80.99376087,  -58.54669887,    1.        , ...,  -44.28035324,\n",
       "         -97.39551664, -106.64589474],\n",
       "       [ -52.78627152,  -10.73405621,  -24.80890292, ...,   -7.76418526,\n",
       "           1.        ,  -37.01080483],\n",
       "       [ -47.53002251,    1.        ,  -43.96707499, ...,  -61.96256151,\n",
       "         -41.30286826,  -84.98535932]])"
      ]
     },
     "execution_count": 24,
     "metadata": {},
     "output_type": "execute_result"
    }
   ],
   "source": [
    "Z1hot"
   ]
  },
  {
   "cell_type": "markdown",
   "metadata": {},
   "source": [
    "## M Step"
   ]
  },
  {
   "cell_type": "code",
   "execution_count": 25,
   "metadata": {
    "collapsed": false
   },
   "outputs": [],
   "source": [
    "# theta_hat\n",
    "Theta = (np.sum(Gamma, axis=0)/D).T\n",
    "\n",
    "# beta_hat\n",
    "N_d = W.sum(axis=1)\n",
    "\n",
    "numerator = W.transpose().dot(Gamma)\n",
    "denominator = np.dot(N_d.T, Gamma)\n",
    "Beta = (numerator/denominator).T"
   ]
  },
  {
   "cell_type": "code",
   "execution_count": 26,
   "metadata": {
    "collapsed": false
   },
   "outputs": [
    {
     "data": {
      "text/plain": [
       "(10,)"
      ]
     },
     "execution_count": 26,
     "metadata": {},
     "output_type": "execute_result"
    }
   ],
   "source": [
    "Theta.shape"
   ]
  },
  {
   "cell_type": "code",
   "execution_count": 27,
   "metadata": {
    "collapsed": false
   },
   "outputs": [
    {
     "data": {
      "text/plain": [
       "matrix([[  0.00000000e+00,   1.30940066e-05,   5.44278030e-07, ...,\n",
       "           3.85986088e-18,   3.69224644e-06,   1.31212293e-05],\n",
       "        [  0.00000000e+00,   1.07849687e-06,   1.29069582e-06, ...,\n",
       "           3.12381201e-17,   1.02623485e-14,   8.13969813e-15],\n",
       "        [  0.00000000e+00,   1.52074808e-05,   1.78058455e-06, ...,\n",
       "           3.59886792e-09,   6.64236619e-08,   8.67743804e-07],\n",
       "        ..., \n",
       "        [  0.00000000e+00,   9.98446765e-06,   3.80850074e-22, ...,\n",
       "           4.45170046e-18,   7.64921747e-09,   1.98178057e-06],\n",
       "        [  0.00000000e+00,   1.90727240e-05,   3.44980366e-11, ...,\n",
       "           2.15807507e-15,   6.19653847e-06,   1.68006250e-06],\n",
       "        [  0.00000000e+00,   3.06963415e-06,   2.19162832e-15, ...,\n",
       "           1.61981287e-09,   4.58175479e-06,   5.84070678e-06]])"
      ]
     },
     "execution_count": 27,
     "metadata": {},
     "output_type": "execute_result"
    }
   ],
   "source": [
    "Beta"
   ]
  },
  {
   "cell_type": "markdown",
   "metadata": {},
   "source": [
    "## Objective function"
   ]
  },
  {
   "cell_type": "code",
   "execution_count": 28,
   "metadata": {
    "collapsed": false
   },
   "outputs": [
    {
     "name": "stdout",
     "output_type": "stream",
     "text": [
      "CPU times: user 123 ms, sys: 19.8 ms, total: 142 ms\n",
      "Wall time: 143 ms\n"
     ]
    },
    {
     "name": "stderr",
     "output_type": "stream",
     "text": [
      "/Users/Luke/anaconda/lib/python2.7/site-packages/IPython/kernel/__main__.py:1: RuntimeWarning: divide by zero encountered in log\n",
      "  if __name__ == '__main__':\n"
     ]
    }
   ],
   "source": [
    "%%time\n",
    "inner = np.log(Theta.T) + W.dot(np.log(Beta.T))\n",
    "loglik = logsumexp(np.multiply(Gamma, inner))"
   ]
  },
  {
   "cell_type": "code",
   "execution_count": 29,
   "metadata": {
    "collapsed": false
   },
   "outputs": [
    {
     "data": {
      "text/plain": [
       "-57052515.461717471"
      ]
     },
     "execution_count": 29,
     "metadata": {},
     "output_type": "execute_result"
    }
   ],
   "source": [
    "loglik"
   ]
  }
 ],
 "metadata": {
  "kernelspec": {
   "display_name": "Python 2",
   "language": "python",
   "name": "python2"
  },
  "language_info": {
   "codemirror_mode": {
    "name": "ipython",
    "version": 2
   },
   "file_extension": ".py",
   "mimetype": "text/x-python",
   "name": "python",
   "nbconvert_exporter": "python",
   "pygments_lexer": "ipython2",
   "version": "2.7.10"
  }
 },
 "nbformat": 4,
 "nbformat_minor": 0
}
